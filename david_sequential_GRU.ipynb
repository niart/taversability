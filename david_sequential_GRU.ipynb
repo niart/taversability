{
 "cells": [
  {
   "attachments": {},
   "cell_type": "markdown",
   "metadata": {},
   "source": [
    "# Changing backbone to RNN\n",
    "### First, setup libraries"
   ]
  },
  {
   "cell_type": "code",
   "execution_count": 1,
   "metadata": {},
   "outputs": [],
   "source": [
    "import os\n",
    "import pandas as pd\n",
    "import numpy as np\n",
    "import torch\n",
    "import torch.nn as nn\n",
    "import torchvision.transforms as transforms\n",
    "from PIL import Image\n",
    "from torch.utils.data import Dataset, DataLoader, Subset\n",
    "import torch.optim as optim\n",
    "from sklearn.metrics import mean_squared_error\n",
    "import torch.optim as optim\n",
    "import torch.nn.functional as F\n",
    "from sklearn.model_selection import train_test_split\n",
    "from tqdm import tqdm\n",
    "# TensorBoard for visualization\n",
    "from torch.utils.tensorboard import SummaryWriter\n",
    "#from tensorboardX import SummaryWriter\n",
    "tensorboard = SummaryWriter()"
   ]
  },
  {
   "attachments": {},
   "cell_type": "markdown",
   "metadata": {},
   "source": [
    "### Load datasets in sequence"
   ]
  },
  {
   "attachments": {},
   "cell_type": "markdown",
   "metadata": {},
   "source": [
    "##### Define resizing method"
   ]
  },
  {
   "cell_type": "code",
   "execution_count": 2,
   "metadata": {},
   "outputs": [],
   "source": [
    "transform = transforms.Compose([\n",
    "    # Reduce the size of the images\n",
    "    # (if size is an int, the smaller edge of the\n",
    "    # image will be matched to this number and the ration is kept)\n",
    "    transforms.Resize((70, 210)),\n",
    "\n",
    "    # Convert a PIL Image or numpy.ndarray to tensor\n",
    "    transforms.ToTensor(),\n",
    "])"
   ]
  },
  {
   "attachments": {},
   "cell_type": "markdown",
   "metadata": {},
   "source": [
    "##### Define a method to calculate the overall traversal_cost of a image which contains several crops"
   ]
  },
  {
   "cell_type": "code",
   "execution_count": 3,
   "metadata": {},
   "outputs": [],
   "source": [
    "def calculate_overall_cost(arr):\n",
    "    if len(arr) == 1:\n",
    "        # if only one entry, it takes up 100% weight\n",
    "        return arr[0]\n",
    "    elif len(arr) == 2:\n",
    "        # if only two entries, first entry takes up 70% and second entry takes up 30%\n",
    "        adjusted_weights = np.array([0.7, 0.3])\n",
    "        return np.average(arr, weights=adjusted_weights)\n",
    "    else:\n",
    "        # if there are more than two entries, apply the custom weights\n",
    "        if arr[0] >= max(arr[1:]):\n",
    "            # if the first entry is the largest, it takes up 100% weight\n",
    "            return arr[0]\n",
    "        else:\n",
    "            # apply the custom weights: 50% to first entry, 30% to second entry, and 20% to third entry\n",
    "            adjusted_weights = np.array([0.5, 0.3, 0.2])\n",
    "            total_weight = adjusted_weights.sum()\n",
    "            adjusted_weights = (adjusted_weights / total_weight) * len(arr)\n",
    "            return np.average(arr, weights=adjusted_weights)"
   ]
  },
  {
   "attachments": {},
   "cell_type": "markdown",
   "metadata": {},
   "source": [
    "##### Define dataset loading method for sequence"
   ]
  },
  {
   "cell_type": "code",
   "execution_count": 4,
   "metadata": {},
   "outputs": [],
   "source": [
    "class TraversabilityCostDataset(Dataset):\n",
    "    def __init__(self, data_path, metadata_path, seq_len, transform):\n",
    "        self.data_path = data_path\n",
    "        self.metadata_path = metadata_path\n",
    "        self.seq_len = seq_len\n",
    "\n",
    "        # Load the metadata\n",
    "        self.metadata = pd.read_csv(metadata_path)\n",
    "\n",
    "        # Group the crops by trajectory ID\n",
    "        self.trajectories = self.metadata.groupby('trajectory_id')['crop_id'].apply(list).to_dict()\n",
    "\n",
    "        # Sort the trajectory IDs\n",
    "        self.trajectory_ids = sorted(list(self.trajectories.keys()))\n",
    "\n",
    "        self.transform = transform\n",
    "\n",
    "    def __len__(self):\n",
    "        return len(self.trajectory_ids)\n",
    "\n",
    "    def __getitem__(self, idx):\n",
    "        # Get the trajectory ID for the current item\n",
    "        traj_id = self.trajectory_ids[idx]\n",
    "\n",
    "        # Load the crops and traversal costs for the current trajectory\n",
    "        crop_ids = self.trajectories[traj_id][:self.seq_len]\n",
    "        crops = []\n",
    "        for crop_id in crop_ids:\n",
    "            image = Image.open(os.path.join(self.data_path, f'{crop_id:05d}.png')).convert('RGB')\n",
    "            crops.append(image)\n",
    "\n",
    "        if self.transform:\n",
    "            crops = [self.transform(crop) for crop in crops]\n",
    "\n",
    "        traversal_costs = self.metadata[self.metadata['trajectory_id'] == traj_id].sort_values('image_timestamp')['traversal_cost'].to_numpy()[:self.seq_len]\n",
    "        overall_cost = calculate_overall_cost(traversal_costs)\n",
    "\n",
    "        # Pad the sequence with zero-filled tensors if it is too short\n",
    "        if len(crops) < self.seq_len:\n",
    "            num_padding = self.seq_len - len(crops)\n",
    "            pad_tensor = torch.zeros_like(crops[0])\n",
    "            crops += [pad_tensor] * num_padding\n",
    "\n",
    "        # Return the crops and overall cost as tensors\n",
    "        return torch.stack(crops), overall_cost"
   ]
  },
  {
   "attachments": {},
   "cell_type": "markdown",
   "metadata": {},
   "source": [
    "### GPU?"
   ]
  },
  {
   "cell_type": "code",
   "execution_count": 5,
   "metadata": {},
   "outputs": [
    {
     "name": "stdout",
     "output_type": "stream",
     "text": [
      "Device: cuda\n",
      "\n"
     ]
    }
   ],
   "source": [
    "device = \"cuda\" if torch.cuda.is_available() else \"cpu\"\n",
    "print(f\"Device: {device}\\n\")"
   ]
  },
  {
   "attachments": {},
   "cell_type": "markdown",
   "metadata": {},
   "source": [
    "### Design a simple RNN"
   ]
  },
  {
   "cell_type": "code",
   "execution_count": 6,
   "metadata": {},
   "outputs": [],
   "source": [
    "class TraversabilityCostGRU(nn.Module):\n",
    "    def __init__(self, input_size, hidden_size, num_layers, output_size):\n",
    "        super(TraversabilityCostGRU, self).__init__()\n",
    "        self.gru1 = nn.GRU(input_size, hidden_size, num_layers, batch_first=True)\n",
    "        self.gru2 = nn.GRU(hidden_size, hidden_size, num_layers, batch_first=True)\n",
    "        self.fc = nn.Linear(hidden_size, output_size)\n",
    "\n",
    "    def forward(self, x):\n",
    "        output, _ = self.gru1(x)\n",
    "        output, _ = self.gru2(output)\n",
    "        output = self.fc(output[:, -1, :])\n",
    "        return output"
   ]
  },
  {
   "cell_type": "code",
   "execution_count": 7,
   "metadata": {},
   "outputs": [
    {
     "name": "stdout",
     "output_type": "stream",
     "text": [
      "TraversabilityCostGRU(\n",
      "  (gru1): GRU(44100, 256, num_layers=2, batch_first=True)\n",
      "  (gru2): GRU(256, 256, num_layers=2, batch_first=True)\n",
      "  (fc): Linear(in_features=256, out_features=1, bias=True)\n",
      ")\n"
     ]
    }
   ],
   "source": [
    "# Define the loss function\n",
    "criterion = nn.MSELoss()\n",
    "\n",
    "# Initialize the model\n",
    "\n",
    "input_size = 70*210*3  # Crop image channels\n",
    "hidden_size = 256  # LSTM hidden size\n",
    "num_layers = 2 # Number of LSTM layers\n",
    "output_size = 1  # Regression output size\n",
    "\n",
    "model = TraversabilityCostGRU(input_size, hidden_size, num_layers, output_size).to(device)\n",
    "\n",
    "# Get all the parameters of the new model\n",
    "base_params = model.parameters()\n",
    "\n",
    "print(model)"
   ]
  },
  {
   "cell_type": "code",
   "execution_count": 8,
   "metadata": {},
   "outputs": [],
   "source": [
    "# Create data loaders\n",
    "seq_len = 3\n",
    "train_dataset = TraversabilityCostDataset('./datasets/data/images_train', './datasets/data/new_train.csv', seq_len=seq_len, transform=transform)\n",
    "test_dataset = TraversabilityCostDataset('./datasets/data/images_test', './datasets/data/new_test.csv', seq_len=seq_len, transform=transform)\n",
    "val_dataset = train_dataset\n",
    "train_size = 70/(100-15)\n",
    "train_indices, val_indices = train_test_split(range(len(train_dataset)), train_size=train_size)\n",
    "# Extract the corresponding subsets of the train dataset\n",
    "train_dataset = Subset(train_dataset, train_indices)\n",
    "val_dataset = Subset(val_dataset, val_indices)"
   ]
  },
  {
   "attachments": {},
   "cell_type": "markdown",
   "metadata": {},
   "source": [
    "### Training loop"
   ]
  },
  {
   "cell_type": "code",
   "execution_count": 9,
   "metadata": {},
   "outputs": [],
   "source": [
    "# Define hyperparameters\n",
    "optimizer = optim.SGD(model.parameters(), lr=1e-3)\n",
    "batch_size = 16\n",
    "num_epochs = 100"
   ]
  },
  {
   "cell_type": "code",
   "execution_count": 10,
   "metadata": {},
   "outputs": [],
   "source": [
    "train_loader = DataLoader(train_dataset, batch_size=batch_size, shuffle=True, drop_last=True)\n",
    "val_loader = DataLoader(train_dataset, batch_size=batch_size, shuffle=True, drop_last=True)\n",
    "test_loader = DataLoader(test_dataset, batch_size=batch_size, drop_last=True)"
   ]
  },
  {
   "cell_type": "code",
   "execution_count": 11,
   "metadata": {},
   "outputs": [
    {
     "name": "stderr",
     "output_type": "stream",
     "text": [
      "Epoch 0 [train]: 100%|██████████| 211/211 [00:15<00:00, 13.36batch/s, batch_loss=0.118] \n",
      "Epoch 0 [val]: 100%|██████████| 211/211 [00:12<00:00, 16.54batch/s, batch_loss=0.119] \n"
     ]
    },
    {
     "name": "stdout",
     "output_type": "stream",
     "text": [
      "Train loss:  0.7681681491267441\n",
      "Validation loss:  0.14580139954087304\n"
     ]
    },
    {
     "name": "stderr",
     "output_type": "stream",
     "text": [
      "Epoch 1 [train]: 100%|██████████| 211/211 [00:14<00:00, 14.87batch/s, batch_loss=0.144] \n",
      "Epoch 1 [val]: 100%|██████████| 211/211 [00:12<00:00, 16.38batch/s, batch_loss=0.0796]\n"
     ]
    },
    {
     "name": "stdout",
     "output_type": "stream",
     "text": [
      "Train loss:  0.14008795673196967\n",
      "Validation loss:  0.13523146517161355\n"
     ]
    },
    {
     "name": "stderr",
     "output_type": "stream",
     "text": [
      "Epoch 2 [train]: 100%|██████████| 211/211 [00:14<00:00, 14.35batch/s, batch_loss=0.088] \n",
      "Epoch 2 [val]: 100%|██████████| 211/211 [00:11<00:00, 17.61batch/s, batch_loss=0.108] \n"
     ]
    },
    {
     "name": "stdout",
     "output_type": "stream",
     "text": [
      "Train loss:  0.13152252021548036\n",
      "Validation loss:  0.1279335839513342\n"
     ]
    },
    {
     "name": "stderr",
     "output_type": "stream",
     "text": [
      "Epoch 3 [train]: 100%|██████████| 211/211 [00:15<00:00, 13.81batch/s, batch_loss=0.108] \n",
      "Epoch 3 [val]: 100%|██████████| 211/211 [00:12<00:00, 17.30batch/s, batch_loss=0.124] \n"
     ]
    },
    {
     "name": "stdout",
     "output_type": "stream",
     "text": [
      "Train loss:  0.12468414754555104\n",
      "Validation loss:  0.12190537860148631\n"
     ]
    },
    {
     "name": "stderr",
     "output_type": "stream",
     "text": [
      "Epoch 4 [train]: 100%|██████████| 211/211 [00:13<00:00, 15.22batch/s, batch_loss=0.0953]\n",
      "Epoch 4 [val]: 100%|██████████| 211/211 [00:11<00:00, 18.75batch/s, batch_loss=0.104] \n"
     ]
    },
    {
     "name": "stdout",
     "output_type": "stream",
     "text": [
      "Train loss:  0.11938084994465852\n",
      "Validation loss:  0.11639586414750379\n"
     ]
    },
    {
     "name": "stderr",
     "output_type": "stream",
     "text": [
      "Epoch 5 [train]: 100%|██████████| 211/211 [00:14<00:00, 14.60batch/s, batch_loss=0.0742]\n",
      "Epoch 5 [val]: 100%|██████████| 211/211 [00:12<00:00, 17.50batch/s, batch_loss=0.174] \n"
     ]
    },
    {
     "name": "stdout",
     "output_type": "stream",
     "text": [
      "Train loss:  0.11412941102365114\n",
      "Validation loss:  0.11179281564466788\n"
     ]
    },
    {
     "name": "stderr",
     "output_type": "stream",
     "text": [
      "Epoch 6 [train]: 100%|██████████| 211/211 [00:14<00:00, 14.73batch/s, batch_loss=0.144] \n",
      "Epoch 6 [val]: 100%|██████████| 211/211 [00:11<00:00, 18.19batch/s, batch_loss=0.109] \n"
     ]
    },
    {
     "name": "stdout",
     "output_type": "stream",
     "text": [
      "Train loss:  0.10979934570675336\n",
      "Validation loss:  0.10759605011664146\n"
     ]
    },
    {
     "name": "stderr",
     "output_type": "stream",
     "text": [
      "Epoch 7 [train]: 100%|██████████| 211/211 [00:14<00:00, 14.41batch/s, batch_loss=0.0887]\n",
      "Epoch 7 [val]: 100%|██████████| 211/211 [00:12<00:00, 16.47batch/s, batch_loss=0.127] \n"
     ]
    },
    {
     "name": "stdout",
     "output_type": "stream",
     "text": [
      "Train loss:  0.10546646975288707\n",
      "Validation loss:  0.103758295811053\n"
     ]
    },
    {
     "name": "stderr",
     "output_type": "stream",
     "text": [
      "Epoch 8 [train]: 100%|██████████| 211/211 [00:14<00:00, 14.40batch/s, batch_loss=0.0714]\n",
      "Epoch 8 [val]: 100%|██████████| 211/211 [00:11<00:00, 17.93batch/s, batch_loss=0.115] \n"
     ]
    },
    {
     "name": "stdout",
     "output_type": "stream",
     "text": [
      "Train loss:  0.10136988035973861\n",
      "Validation loss:  0.09969763343421459\n"
     ]
    },
    {
     "name": "stderr",
     "output_type": "stream",
     "text": [
      "Epoch 9 [train]: 100%|██████████| 211/211 [00:15<00:00, 14.06batch/s, batch_loss=0.143] \n",
      "Epoch 9 [val]: 100%|██████████| 211/211 [00:12<00:00, 17.41batch/s, batch_loss=0.159] \n"
     ]
    },
    {
     "name": "stdout",
     "output_type": "stream",
     "text": [
      "Train loss:  0.09796935428976308\n",
      "Validation loss:  0.09591814169248977\n"
     ]
    },
    {
     "name": "stderr",
     "output_type": "stream",
     "text": [
      "Epoch 10 [train]: 100%|██████████| 211/211 [00:15<00:00, 14.01batch/s, batch_loss=0.0985]\n",
      "Epoch 10 [val]: 100%|██████████| 211/211 [00:12<00:00, 16.73batch/s, batch_loss=0.0975]\n"
     ]
    },
    {
     "name": "stdout",
     "output_type": "stream",
     "text": [
      "Train loss:  0.09421609427423658\n",
      "Validation loss:  0.09240607092203187\n"
     ]
    },
    {
     "name": "stderr",
     "output_type": "stream",
     "text": [
      "Epoch 11 [train]: 100%|██████████| 211/211 [00:15<00:00, 13.95batch/s, batch_loss=0.0812]\n",
      "Epoch 11 [val]: 100%|██████████| 211/211 [00:12<00:00, 16.27batch/s, batch_loss=0.133] \n"
     ]
    },
    {
     "name": "stdout",
     "output_type": "stream",
     "text": [
      "Train loss:  0.09072841737318207\n",
      "Validation loss:  0.08873033481336681\n"
     ]
    },
    {
     "name": "stderr",
     "output_type": "stream",
     "text": [
      "Epoch 12 [train]: 100%|██████████| 211/211 [00:14<00:00, 14.08batch/s, batch_loss=0.0588]\n",
      "Epoch 12 [val]: 100%|██████████| 211/211 [00:12<00:00, 17.44batch/s, batch_loss=0.0924]\n"
     ]
    },
    {
     "name": "stdout",
     "output_type": "stream",
     "text": [
      "Train loss:  0.08723358931338773\n",
      "Validation loss:  0.08541175450386376\n"
     ]
    },
    {
     "name": "stderr",
     "output_type": "stream",
     "text": [
      "Epoch 13 [train]: 100%|██████████| 211/211 [00:14<00:00, 14.44batch/s, batch_loss=0.15]  \n",
      "Epoch 13 [val]: 100%|██████████| 211/211 [00:12<00:00, 17.20batch/s, batch_loss=0.0657]\n"
     ]
    },
    {
     "name": "stdout",
     "output_type": "stream",
     "text": [
      "Train loss:  0.08431464664136645\n",
      "Validation loss:  0.08255360439120668\n"
     ]
    },
    {
     "name": "stderr",
     "output_type": "stream",
     "text": [
      "Epoch 14 [train]: 100%|██████████| 211/211 [00:14<00:00, 14.67batch/s, batch_loss=0.0454]\n",
      "Epoch 14 [val]: 100%|██████████| 211/211 [00:12<00:00, 16.62batch/s, batch_loss=0.0548]\n"
     ]
    },
    {
     "name": "stdout",
     "output_type": "stream",
     "text": [
      "Train loss:  0.08135470940589623\n",
      "Validation loss:  0.07967027699862911\n"
     ]
    },
    {
     "name": "stderr",
     "output_type": "stream",
     "text": [
      "Epoch 15 [train]: 100%|██████████| 211/211 [00:14<00:00, 14.27batch/s, batch_loss=0.0486]\n",
      "Epoch 15 [val]: 100%|██████████| 211/211 [00:12<00:00, 17.17batch/s, batch_loss=0.12]  \n"
     ]
    },
    {
     "name": "stdout",
     "output_type": "stream",
     "text": [
      "Train loss:  0.07853121017551197\n",
      "Validation loss:  0.0772939570327295\n"
     ]
    },
    {
     "name": "stderr",
     "output_type": "stream",
     "text": [
      "Epoch 16 [train]: 100%|██████████| 211/211 [00:14<00:00, 14.77batch/s, batch_loss=0.0336]\n",
      "Epoch 16 [val]: 100%|██████████| 211/211 [00:12<00:00, 16.43batch/s, batch_loss=0.084] \n"
     ]
    },
    {
     "name": "stdout",
     "output_type": "stream",
     "text": [
      "Train loss:  0.07601129521375001\n",
      "Validation loss:  0.07574445876560076\n"
     ]
    },
    {
     "name": "stderr",
     "output_type": "stream",
     "text": [
      "Epoch 17 [train]: 100%|██████████| 211/211 [00:14<00:00, 14.13batch/s, batch_loss=0.0799]\n",
      "Epoch 17 [val]: 100%|██████████| 211/211 [00:13<00:00, 16.02batch/s, batch_loss=0.156] \n"
     ]
    },
    {
     "name": "stdout",
     "output_type": "stream",
     "text": [
      "Train loss:  0.07413692054599348\n",
      "Validation loss:  0.07305793255708294\n"
     ]
    },
    {
     "name": "stderr",
     "output_type": "stream",
     "text": [
      "Epoch 18 [train]: 100%|██████████| 211/211 [00:15<00:00, 13.82batch/s, batch_loss=0.0465]\n",
      "Epoch 18 [val]: 100%|██████████| 211/211 [00:12<00:00, 17.19batch/s, batch_loss=0.0283]\n"
     ]
    },
    {
     "name": "stdout",
     "output_type": "stream",
     "text": [
      "Train loss:  0.07219304421910007\n",
      "Validation loss:  0.0709641356166307\n"
     ]
    },
    {
     "name": "stderr",
     "output_type": "stream",
     "text": [
      "Epoch 19 [train]: 100%|██████████| 211/211 [00:14<00:00, 14.47batch/s, batch_loss=0.0771]\n",
      "Epoch 19 [val]: 100%|██████████| 211/211 [00:12<00:00, 17.21batch/s, batch_loss=0.0537]\n"
     ]
    },
    {
     "name": "stdout",
     "output_type": "stream",
     "text": [
      "Train loss:  0.07042304931347035\n",
      "Validation loss:  0.06957207781998298\n"
     ]
    },
    {
     "name": "stderr",
     "output_type": "stream",
     "text": [
      "Epoch 20 [train]: 100%|██████████| 211/211 [00:15<00:00, 14.06batch/s, batch_loss=0.0549]\n",
      "Epoch 20 [val]: 100%|██████████| 211/211 [00:12<00:00, 16.63batch/s, batch_loss=0.0521]\n"
     ]
    },
    {
     "name": "stdout",
     "output_type": "stream",
     "text": [
      "Train loss:  0.06909410637025991\n",
      "Validation loss:  0.06830014547920284\n"
     ]
    },
    {
     "name": "stderr",
     "output_type": "stream",
     "text": [
      "Epoch 21 [train]: 100%|██████████| 211/211 [00:14<00:00, 14.16batch/s, batch_loss=0.0903]\n",
      "Epoch 21 [val]: 100%|██████████| 211/211 [00:11<00:00, 18.19batch/s, batch_loss=0.0545]\n"
     ]
    },
    {
     "name": "stdout",
     "output_type": "stream",
     "text": [
      "Train loss:  0.06774157849541802\n",
      "Validation loss:  0.06708790774434066\n"
     ]
    },
    {
     "name": "stderr",
     "output_type": "stream",
     "text": [
      "Epoch 22 [train]: 100%|██████████| 211/211 [00:15<00:00, 13.95batch/s, batch_loss=0.052] \n",
      "Epoch 22 [val]: 100%|██████████| 211/211 [00:12<00:00, 16.63batch/s, batch_loss=0.0248]\n"
     ]
    },
    {
     "name": "stdout",
     "output_type": "stream",
     "text": [
      "Train loss:  0.06670649785113025\n",
      "Validation loss:  0.06612594106807478\n"
     ]
    },
    {
     "name": "stderr",
     "output_type": "stream",
     "text": [
      "Epoch 23 [train]: 100%|██████████| 211/211 [00:14<00:00, 14.18batch/s, batch_loss=0.114]  \n",
      "Epoch 23 [val]: 100%|██████████| 211/211 [00:12<00:00, 16.34batch/s, batch_loss=0.102] \n"
     ]
    },
    {
     "name": "stdout",
     "output_type": "stream",
     "text": [
      "Train loss:  0.06579449156204671\n",
      "Validation loss:  0.06514984453723732\n"
     ]
    },
    {
     "name": "stderr",
     "output_type": "stream",
     "text": [
      "Epoch 24 [train]: 100%|██████████| 211/211 [00:14<00:00, 14.85batch/s, batch_loss=0.165] \n",
      "Epoch 24 [val]: 100%|██████████| 211/211 [00:12<00:00, 16.31batch/s, batch_loss=0.07]  \n"
     ]
    },
    {
     "name": "stdout",
     "output_type": "stream",
     "text": [
      "Train loss:  0.06498816505584694\n",
      "Validation loss:  0.06459936601194469\n"
     ]
    },
    {
     "name": "stderr",
     "output_type": "stream",
     "text": [
      "Epoch 25 [train]: 100%|██████████| 211/211 [00:15<00:00, 13.76batch/s, batch_loss=0.0877]\n",
      "Epoch 25 [val]: 100%|██████████| 211/211 [00:13<00:00, 16.04batch/s, batch_loss=0.036] \n"
     ]
    },
    {
     "name": "stdout",
     "output_type": "stream",
     "text": [
      "Train loss:  0.06436842431038302\n",
      "Validation loss:  0.06384490507763702\n"
     ]
    },
    {
     "name": "stderr",
     "output_type": "stream",
     "text": [
      "Epoch 26 [train]: 100%|██████████| 211/211 [00:15<00:00, 13.94batch/s, batch_loss=0.0604]\n",
      "Epoch 26 [val]: 100%|██████████| 211/211 [00:13<00:00, 15.79batch/s, batch_loss=0.0908]\n"
     ]
    },
    {
     "name": "stdout",
     "output_type": "stream",
     "text": [
      "Train loss:  0.06369914826106857\n",
      "Validation loss:  0.06315557907611448\n"
     ]
    },
    {
     "name": "stderr",
     "output_type": "stream",
     "text": [
      "Epoch 27 [train]: 100%|██████████| 211/211 [00:15<00:00, 13.47batch/s, batch_loss=0.0718]\n",
      "Epoch 27 [val]: 100%|██████████| 211/211 [00:12<00:00, 16.57batch/s, batch_loss=0.0508]\n"
     ]
    },
    {
     "name": "stdout",
     "output_type": "stream",
     "text": [
      "Train loss:  0.0631321495862891\n",
      "Validation loss:  0.06285024501180987\n"
     ]
    },
    {
     "name": "stderr",
     "output_type": "stream",
     "text": [
      "Epoch 28 [train]: 100%|██████████| 211/211 [00:15<00:00, 13.79batch/s, batch_loss=0.0514]\n",
      "Epoch 28 [val]: 100%|██████████| 211/211 [00:12<00:00, 16.35batch/s, batch_loss=0.0572]\n"
     ]
    },
    {
     "name": "stdout",
     "output_type": "stream",
     "text": [
      "Train loss:  0.06262586857802471\n",
      "Validation loss:  0.06210924326986462\n"
     ]
    },
    {
     "name": "stderr",
     "output_type": "stream",
     "text": [
      "Epoch 29 [train]: 100%|██████████| 211/211 [00:15<00:00, 13.71batch/s, batch_loss=0.0975]\n",
      "Epoch 29 [val]: 100%|██████████| 211/211 [00:13<00:00, 15.55batch/s, batch_loss=0.035] \n"
     ]
    },
    {
     "name": "stdout",
     "output_type": "stream",
     "text": [
      "Train loss:  0.06207766552777893\n",
      "Validation loss:  0.06190442932503564\n"
     ]
    },
    {
     "name": "stderr",
     "output_type": "stream",
     "text": [
      "Epoch 30 [train]: 100%|██████████| 211/211 [00:15<00:00, 13.54batch/s, batch_loss=0.0704]\n",
      "Epoch 30 [val]: 100%|██████████| 211/211 [00:12<00:00, 16.32batch/s, batch_loss=0.0473]\n"
     ]
    },
    {
     "name": "stdout",
     "output_type": "stream",
     "text": [
      "Train loss:  0.061622358533117254\n",
      "Validation loss:  0.06130599972507185\n"
     ]
    },
    {
     "name": "stderr",
     "output_type": "stream",
     "text": [
      "Epoch 31 [train]: 100%|██████████| 211/211 [00:14<00:00, 14.19batch/s, batch_loss=0.032] \n",
      "Epoch 31 [val]: 100%|██████████| 211/211 [00:12<00:00, 16.74batch/s, batch_loss=0.0812]\n"
     ]
    },
    {
     "name": "stdout",
     "output_type": "stream",
     "text": [
      "Train loss:  0.06132726607472584\n",
      "Validation loss:  0.06101589627484785\n"
     ]
    },
    {
     "name": "stderr",
     "output_type": "stream",
     "text": [
      "Epoch 32 [train]: 100%|██████████| 211/211 [00:14<00:00, 14.63batch/s, batch_loss=0.0396]\n",
      "Epoch 32 [val]: 100%|██████████| 211/211 [00:12<00:00, 17.20batch/s, batch_loss=0.122] \n"
     ]
    },
    {
     "name": "stdout",
     "output_type": "stream",
     "text": [
      "Train loss:  0.06089433747065532\n",
      "Validation loss:  0.06060353712285423\n"
     ]
    },
    {
     "name": "stderr",
     "output_type": "stream",
     "text": [
      "Epoch 33 [train]: 100%|██████████| 211/211 [00:14<00:00, 14.76batch/s, batch_loss=0.0805]\n",
      "Epoch 33 [val]: 100%|██████████| 211/211 [00:13<00:00, 15.71batch/s, batch_loss=0.027]  \n"
     ]
    },
    {
     "name": "stdout",
     "output_type": "stream",
     "text": [
      "Train loss:  0.060225222835926406\n",
      "Validation loss:  0.060305795217770755\n"
     ]
    },
    {
     "name": "stderr",
     "output_type": "stream",
     "text": [
      "Epoch 34 [train]: 100%|██████████| 211/211 [00:15<00:00, 13.78batch/s, batch_loss=0.061] \n",
      "Epoch 34 [val]: 100%|██████████| 211/211 [00:12<00:00, 17.12batch/s, batch_loss=0.0889]\n"
     ]
    },
    {
     "name": "stdout",
     "output_type": "stream",
     "text": [
      "Train loss:  0.06034084531305954\n",
      "Validation loss:  0.059965387901561744\n"
     ]
    },
    {
     "name": "stderr",
     "output_type": "stream",
     "text": [
      "Epoch 35 [train]: 100%|██████████| 211/211 [00:15<00:00, 13.58batch/s, batch_loss=0.0667]\n",
      "Epoch 35 [val]: 100%|██████████| 211/211 [00:13<00:00, 15.86batch/s, batch_loss=0.126] \n"
     ]
    },
    {
     "name": "stdout",
     "output_type": "stream",
     "text": [
      "Train loss:  0.060154086381302534\n",
      "Validation loss:  0.05977019670484269\n"
     ]
    },
    {
     "name": "stderr",
     "output_type": "stream",
     "text": [
      "Epoch 36 [train]: 100%|██████████| 211/211 [00:15<00:00, 13.69batch/s, batch_loss=0.0179]\n",
      "Epoch 36 [val]: 100%|██████████| 211/211 [00:13<00:00, 15.97batch/s, batch_loss=0.0339]\n"
     ]
    },
    {
     "name": "stdout",
     "output_type": "stream",
     "text": [
      "Train loss:  0.05966988640453627\n",
      "Validation loss:  0.05925319810016377\n"
     ]
    },
    {
     "name": "stderr",
     "output_type": "stream",
     "text": [
      "Epoch 37 [train]: 100%|██████████| 211/211 [00:15<00:00, 13.44batch/s, batch_loss=0.04]  \n",
      "Epoch 37 [val]: 100%|██████████| 211/211 [00:13<00:00, 15.84batch/s, batch_loss=0.0658]\n"
     ]
    },
    {
     "name": "stdout",
     "output_type": "stream",
     "text": [
      "Train loss:  0.05936536255348672\n",
      "Validation loss:  0.05907995960155091\n"
     ]
    },
    {
     "name": "stderr",
     "output_type": "stream",
     "text": [
      "Epoch 38 [train]: 100%|██████████| 211/211 [00:16<00:00, 13.00batch/s, batch_loss=0.0598] \n",
      "Epoch 38 [val]: 100%|██████████| 211/211 [00:14<00:00, 14.99batch/s, batch_loss=0.0284]\n"
     ]
    },
    {
     "name": "stdout",
     "output_type": "stream",
     "text": [
      "Train loss:  0.05906954189100541\n",
      "Validation loss:  0.058959723020317704\n"
     ]
    },
    {
     "name": "stderr",
     "output_type": "stream",
     "text": [
      "Epoch 39 [train]: 100%|██████████| 211/211 [00:15<00:00, 13.33batch/s, batch_loss=0.071] \n",
      "Epoch 39 [val]: 100%|██████████| 211/211 [00:12<00:00, 16.56batch/s, batch_loss=0.0325]\n"
     ]
    },
    {
     "name": "stdout",
     "output_type": "stream",
     "text": [
      "Train loss:  0.059060550786317306\n",
      "Validation loss:  0.05858768681954887\n"
     ]
    },
    {
     "name": "stderr",
     "output_type": "stream",
     "text": [
      "Epoch 40 [train]: 100%|██████████| 211/211 [00:15<00:00, 13.53batch/s, batch_loss=0.0602]\n",
      "Epoch 40 [val]: 100%|██████████| 211/211 [00:14<00:00, 15.06batch/s, batch_loss=0.0655]\n"
     ]
    },
    {
     "name": "stdout",
     "output_type": "stream",
     "text": [
      "Train loss:  0.058786605833342394\n",
      "Validation loss:  0.05839396260652379\n"
     ]
    },
    {
     "name": "stderr",
     "output_type": "stream",
     "text": [
      "Epoch 41 [train]: 100%|██████████| 211/211 [00:15<00:00, 13.62batch/s, batch_loss=0.0486]\n",
      "Epoch 41 [val]: 100%|██████████| 211/211 [00:13<00:00, 16.12batch/s, batch_loss=0.0304]\n"
     ]
    },
    {
     "name": "stdout",
     "output_type": "stream",
     "text": [
      "Train loss:  0.05814748961553241\n",
      "Validation loss:  0.05856586385346782\n"
     ]
    },
    {
     "name": "stderr",
     "output_type": "stream",
     "text": [
      "Epoch 42 [train]: 100%|██████████| 211/211 [00:15<00:00, 13.39batch/s, batch_loss=0.0549]\n",
      "Epoch 42 [val]: 100%|██████████| 211/211 [00:12<00:00, 16.24batch/s, batch_loss=0.0952]\n"
     ]
    },
    {
     "name": "stdout",
     "output_type": "stream",
     "text": [
      "Train loss:  0.058441826622875975\n",
      "Validation loss:  0.05803794043035265\n"
     ]
    },
    {
     "name": "stderr",
     "output_type": "stream",
     "text": [
      "Epoch 43 [train]: 100%|██████████| 211/211 [00:15<00:00, 13.40batch/s, batch_loss=0.0703]\n",
      "Epoch 43 [val]: 100%|██████████| 211/211 [00:13<00:00, 15.76batch/s, batch_loss=0.0362]\n"
     ]
    },
    {
     "name": "stdout",
     "output_type": "stream",
     "text": [
      "Train loss:  0.05797401107979637\n",
      "Validation loss:  0.05770597481548153\n"
     ]
    },
    {
     "name": "stderr",
     "output_type": "stream",
     "text": [
      "Epoch 44 [train]: 100%|██████████| 211/211 [00:14<00:00, 14.45batch/s, batch_loss=0.0433]\n",
      "Epoch 44 [val]: 100%|██████████| 211/211 [00:13<00:00, 15.69batch/s, batch_loss=0.0649]\n"
     ]
    },
    {
     "name": "stdout",
     "output_type": "stream",
     "text": [
      "Train loss:  0.05797819022656613\n",
      "Validation loss:  0.056980735700414765\n"
     ]
    },
    {
     "name": "stderr",
     "output_type": "stream",
     "text": [
      "Epoch 45 [train]: 100%|██████████| 211/211 [00:15<00:00, 13.83batch/s, batch_loss=0.0673]\n",
      "Epoch 45 [val]: 100%|██████████| 211/211 [00:13<00:00, 16.04batch/s, batch_loss=0.112] \n"
     ]
    },
    {
     "name": "stdout",
     "output_type": "stream",
     "text": [
      "Train loss:  0.05780821689871858\n",
      "Validation loss:  0.05805275306862107\n"
     ]
    },
    {
     "name": "stderr",
     "output_type": "stream",
     "text": [
      "Epoch 46 [train]: 100%|██████████| 211/211 [00:15<00:00, 13.79batch/s, batch_loss=0.054] \n",
      "Epoch 46 [val]: 100%|██████████| 211/211 [00:13<00:00, 15.66batch/s, batch_loss=0.0352]\n"
     ]
    },
    {
     "name": "stdout",
     "output_type": "stream",
     "text": [
      "Train loss:  0.05770940438282391\n",
      "Validation loss:  0.05740063496752078\n"
     ]
    },
    {
     "name": "stderr",
     "output_type": "stream",
     "text": [
      "Epoch 47 [train]: 100%|██████████| 211/211 [00:14<00:00, 14.47batch/s, batch_loss=0.0605]\n",
      "Epoch 47 [val]: 100%|██████████| 211/211 [00:13<00:00, 15.80batch/s, batch_loss=0.0816]\n"
     ]
    },
    {
     "name": "stdout",
     "output_type": "stream",
     "text": [
      "Train loss:  0.05728488529393495\n",
      "Validation loss:  0.057097431364630864\n"
     ]
    },
    {
     "name": "stderr",
     "output_type": "stream",
     "text": [
      "Epoch 48 [train]: 100%|██████████| 211/211 [00:15<00:00, 13.76batch/s, batch_loss=0.0283]\n",
      "Epoch 48 [val]: 100%|██████████| 211/211 [00:13<00:00, 15.81batch/s, batch_loss=0.056] \n"
     ]
    },
    {
     "name": "stdout",
     "output_type": "stream",
     "text": [
      "Train loss:  0.057099675836641925\n",
      "Validation loss:  0.05743355174255343\n"
     ]
    },
    {
     "name": "stderr",
     "output_type": "stream",
     "text": [
      "Epoch 49 [train]: 100%|██████████| 211/211 [00:15<00:00, 13.34batch/s, batch_loss=0.0767]\n",
      "Epoch 49 [val]: 100%|██████████| 211/211 [00:13<00:00, 16.16batch/s, batch_loss=0.0465] \n"
     ]
    },
    {
     "name": "stdout",
     "output_type": "stream",
     "text": [
      "Train loss:  0.05710168580008932\n",
      "Validation loss:  0.056617900069446746\n"
     ]
    },
    {
     "name": "stderr",
     "output_type": "stream",
     "text": [
      "Epoch 50 [train]: 100%|██████████| 211/211 [00:15<00:00, 13.57batch/s, batch_loss=0.0591]\n",
      "Epoch 50 [val]: 100%|██████████| 211/211 [00:12<00:00, 16.56batch/s, batch_loss=0.0705]\n"
     ]
    },
    {
     "name": "stdout",
     "output_type": "stream",
     "text": [
      "Train loss:  0.05704228751968324\n",
      "Validation loss:  0.05728207302522772\n"
     ]
    },
    {
     "name": "stderr",
     "output_type": "stream",
     "text": [
      "Epoch 51 [train]: 100%|██████████| 211/211 [00:15<00:00, 14.06batch/s, batch_loss=0.0258]\n",
      "Epoch 51 [val]: 100%|██████████| 211/211 [00:12<00:00, 16.40batch/s, batch_loss=0.0441]\n"
     ]
    },
    {
     "name": "stdout",
     "output_type": "stream",
     "text": [
      "Train loss:  0.05683021105764326\n",
      "Validation loss:  0.05644862921171796\n"
     ]
    },
    {
     "name": "stderr",
     "output_type": "stream",
     "text": [
      "Epoch 52 [train]: 100%|██████████| 211/211 [00:14<00:00, 14.09batch/s, batch_loss=0.0318]\n",
      "Epoch 52 [val]: 100%|██████████| 211/211 [00:12<00:00, 16.66batch/s, batch_loss=0.0375]\n"
     ]
    },
    {
     "name": "stdout",
     "output_type": "stream",
     "text": [
      "Train loss:  0.05630392312933168\n",
      "Validation loss:  0.0560528149711762\n"
     ]
    },
    {
     "name": "stderr",
     "output_type": "stream",
     "text": [
      "Epoch 53 [train]: 100%|██████████| 211/211 [00:15<00:00, 14.02batch/s, batch_loss=0.0552]\n",
      "Epoch 53 [val]: 100%|██████████| 211/211 [00:12<00:00, 16.71batch/s, batch_loss=0.0378]\n"
     ]
    },
    {
     "name": "stdout",
     "output_type": "stream",
     "text": [
      "Train loss:  0.05657155207911377\n",
      "Validation loss:  0.05616361730090984\n"
     ]
    },
    {
     "name": "stderr",
     "output_type": "stream",
     "text": [
      "Epoch 54 [train]: 100%|██████████| 211/211 [00:15<00:00, 13.65batch/s, batch_loss=0.108] \n",
      "Epoch 54 [val]: 100%|██████████| 211/211 [00:13<00:00, 16.02batch/s, batch_loss=0.0455]\n"
     ]
    },
    {
     "name": "stdout",
     "output_type": "stream",
     "text": [
      "Train loss:  0.05625730112564465\n",
      "Validation loss:  0.05584245740294175\n"
     ]
    },
    {
     "name": "stderr",
     "output_type": "stream",
     "text": [
      "Epoch 55 [train]: 100%|██████████| 211/211 [00:14<00:00, 14.15batch/s, batch_loss=0.0372]\n",
      "Epoch 55 [val]: 100%|██████████| 211/211 [00:12<00:00, 16.79batch/s, batch_loss=0.0422] \n"
     ]
    },
    {
     "name": "stdout",
     "output_type": "stream",
     "text": [
      "Train loss:  0.056256087367129295\n",
      "Validation loss:  0.05569638106466184\n"
     ]
    },
    {
     "name": "stderr",
     "output_type": "stream",
     "text": [
      "Epoch 56 [train]: 100%|██████████| 211/211 [00:15<00:00, 13.51batch/s, batch_loss=0.0662]\n",
      "Epoch 56 [val]: 100%|██████████| 211/211 [00:12<00:00, 16.85batch/s, batch_loss=0.0838]\n"
     ]
    },
    {
     "name": "stdout",
     "output_type": "stream",
     "text": [
      "Train loss:  0.05596236702067934\n",
      "Validation loss:  0.05568527405665926\n"
     ]
    },
    {
     "name": "stderr",
     "output_type": "stream",
     "text": [
      "Epoch 57 [train]: 100%|██████████| 211/211 [00:15<00:00, 13.52batch/s, batch_loss=0.0367]\n",
      "Epoch 57 [val]: 100%|██████████| 211/211 [00:13<00:00, 16.17batch/s, batch_loss=0.0871]\n"
     ]
    },
    {
     "name": "stdout",
     "output_type": "stream",
     "text": [
      "Train loss:  0.0559352764545323\n",
      "Validation loss:  0.05580099361564925\n"
     ]
    },
    {
     "name": "stderr",
     "output_type": "stream",
     "text": [
      "Epoch 58 [train]: 100%|██████████| 211/211 [00:15<00:00, 13.37batch/s, batch_loss=0.0332] \n",
      "Epoch 58 [val]: 100%|██████████| 211/211 [00:12<00:00, 16.53batch/s, batch_loss=0.026] \n"
     ]
    },
    {
     "name": "stdout",
     "output_type": "stream",
     "text": [
      "Train loss:  0.05576473102853177\n",
      "Validation loss:  0.05566209420526605\n"
     ]
    },
    {
     "name": "stderr",
     "output_type": "stream",
     "text": [
      "Epoch 59 [train]: 100%|██████████| 211/211 [00:15<00:00, 13.92batch/s, batch_loss=0.0642]\n",
      "Epoch 59 [val]: 100%|██████████| 211/211 [00:13<00:00, 16.03batch/s, batch_loss=0.0542]\n"
     ]
    },
    {
     "name": "stdout",
     "output_type": "stream",
     "text": [
      "Train loss:  0.05558658139219391\n",
      "Validation loss:  0.055584416083701245\n"
     ]
    },
    {
     "name": "stderr",
     "output_type": "stream",
     "text": [
      "Epoch 60 [train]: 100%|██████████| 211/211 [00:14<00:00, 14.32batch/s, batch_loss=0.0446]\n",
      "Epoch 60 [val]: 100%|██████████| 211/211 [00:12<00:00, 16.25batch/s, batch_loss=0.0325]\n"
     ]
    },
    {
     "name": "stdout",
     "output_type": "stream",
     "text": [
      "Train loss:  0.055562650061343324\n",
      "Validation loss:  0.05504681860506887\n"
     ]
    },
    {
     "name": "stderr",
     "output_type": "stream",
     "text": [
      "Epoch 61 [train]: 100%|██████████| 211/211 [00:15<00:00, 14.02batch/s, batch_loss=0.0618]\n",
      "Epoch 61 [val]: 100%|██████████| 211/211 [00:12<00:00, 16.33batch/s, batch_loss=0.0647]\n"
     ]
    },
    {
     "name": "stdout",
     "output_type": "stream",
     "text": [
      "Train loss:  0.055481439427755234\n",
      "Validation loss:  0.05481130142015578\n"
     ]
    },
    {
     "name": "stderr",
     "output_type": "stream",
     "text": [
      "Epoch 62 [train]: 100%|██████████| 211/211 [00:15<00:00, 13.69batch/s, batch_loss=0.0303]\n",
      "Epoch 62 [val]: 100%|██████████| 211/211 [00:12<00:00, 16.75batch/s, batch_loss=0.0919]\n"
     ]
    },
    {
     "name": "stdout",
     "output_type": "stream",
     "text": [
      "Train loss:  0.055132721257181626\n",
      "Validation loss:  0.05499401793253323\n"
     ]
    },
    {
     "name": "stderr",
     "output_type": "stream",
     "text": [
      "Epoch 63 [train]: 100%|██████████| 211/211 [00:15<00:00, 13.82batch/s, batch_loss=0.0372]\n",
      "Epoch 63 [val]: 100%|██████████| 211/211 [00:12<00:00, 17.02batch/s, batch_loss=0.0403]\n"
     ]
    },
    {
     "name": "stdout",
     "output_type": "stream",
     "text": [
      "Train loss:  0.05526792802963375\n",
      "Validation loss:  0.054917350912811906\n"
     ]
    },
    {
     "name": "stderr",
     "output_type": "stream",
     "text": [
      "Epoch 64 [train]: 100%|██████████| 211/211 [00:15<00:00, 13.89batch/s, batch_loss=0.0442]\n",
      "Epoch 64 [val]: 100%|██████████| 211/211 [00:13<00:00, 15.74batch/s, batch_loss=0.0695]\n"
     ]
    },
    {
     "name": "stdout",
     "output_type": "stream",
     "text": [
      "Train loss:  0.05507070927879605\n",
      "Validation loss:  0.054549781014041045\n"
     ]
    },
    {
     "name": "stderr",
     "output_type": "stream",
     "text": [
      "Epoch 65 [train]: 100%|██████████| 211/211 [00:14<00:00, 14.13batch/s, batch_loss=0.011] \n",
      "Epoch 65 [val]: 100%|██████████| 211/211 [00:11<00:00, 18.51batch/s, batch_loss=0.0475]\n"
     ]
    },
    {
     "name": "stdout",
     "output_type": "stream",
     "text": [
      "Train loss:  0.05488859019390667\n",
      "Validation loss:  0.054497084799173166\n"
     ]
    },
    {
     "name": "stderr",
     "output_type": "stream",
     "text": [
      "Epoch 66 [train]: 100%|██████████| 211/211 [00:14<00:00, 14.68batch/s, batch_loss=0.0562]\n",
      "Epoch 66 [val]: 100%|██████████| 211/211 [00:13<00:00, 15.93batch/s, batch_loss=0.0547]\n"
     ]
    },
    {
     "name": "stdout",
     "output_type": "stream",
     "text": [
      "Train loss:  0.05475454539975422\n",
      "Validation loss:  0.05412054626620787\n"
     ]
    },
    {
     "name": "stderr",
     "output_type": "stream",
     "text": [
      "Epoch 67 [train]: 100%|██████████| 211/211 [00:14<00:00, 14.12batch/s, batch_loss=0.0264]\n",
      "Epoch 67 [val]: 100%|██████████| 211/211 [00:12<00:00, 16.35batch/s, batch_loss=0.062] \n"
     ]
    },
    {
     "name": "stdout",
     "output_type": "stream",
     "text": [
      "Train loss:  0.054564047301322256\n",
      "Validation loss:  0.0544699761959358\n"
     ]
    },
    {
     "name": "stderr",
     "output_type": "stream",
     "text": [
      "Epoch 68 [train]: 100%|██████████| 211/211 [00:15<00:00, 13.82batch/s, batch_loss=0.0409]\n",
      "Epoch 68 [val]: 100%|██████████| 211/211 [00:12<00:00, 16.50batch/s, batch_loss=0.0448] \n"
     ]
    },
    {
     "name": "stdout",
     "output_type": "stream",
     "text": [
      "Train loss:  0.05427019463009789\n",
      "Validation loss:  0.054216529180019776\n"
     ]
    },
    {
     "name": "stderr",
     "output_type": "stream",
     "text": [
      "Epoch 69 [train]: 100%|██████████| 211/211 [00:14<00:00, 14.08batch/s, batch_loss=0.0329]\n",
      "Epoch 69 [val]: 100%|██████████| 211/211 [00:12<00:00, 16.64batch/s, batch_loss=0.0699]\n"
     ]
    },
    {
     "name": "stdout",
     "output_type": "stream",
     "text": [
      "Train loss:  0.054367762366848545\n",
      "Validation loss:  0.05389293175907597\n"
     ]
    },
    {
     "name": "stderr",
     "output_type": "stream",
     "text": [
      "Epoch 70 [train]: 100%|██████████| 211/211 [00:14<00:00, 14.12batch/s, batch_loss=0.0716]\n",
      "Epoch 70 [val]: 100%|██████████| 211/211 [00:12<00:00, 16.67batch/s, batch_loss=0.0731]\n"
     ]
    },
    {
     "name": "stdout",
     "output_type": "stream",
     "text": [
      "Train loss:  0.054064450062010896\n",
      "Validation loss:  0.05412522386737528\n"
     ]
    },
    {
     "name": "stderr",
     "output_type": "stream",
     "text": [
      "Epoch 71 [train]: 100%|██████████| 211/211 [00:15<00:00, 14.03batch/s, batch_loss=0.209] \n",
      "Epoch 71 [val]: 100%|██████████| 211/211 [00:12<00:00, 16.28batch/s, batch_loss=0.0575]\n"
     ]
    },
    {
     "name": "stdout",
     "output_type": "stream",
     "text": [
      "Train loss:  0.05421093302870163\n",
      "Validation loss:  0.05389544160194352\n"
     ]
    },
    {
     "name": "stderr",
     "output_type": "stream",
     "text": [
      "Epoch 72 [train]: 100%|██████████| 211/211 [00:15<00:00, 13.67batch/s, batch_loss=0.068] \n",
      "Epoch 72 [val]: 100%|██████████| 211/211 [00:13<00:00, 15.28batch/s, batch_loss=0.0459]\n"
     ]
    },
    {
     "name": "stdout",
     "output_type": "stream",
     "text": [
      "Train loss:  0.054114926329328995\n",
      "Validation loss:  0.05353305048563264\n"
     ]
    },
    {
     "name": "stderr",
     "output_type": "stream",
     "text": [
      "Epoch 73 [train]: 100%|██████████| 211/211 [00:15<00:00, 13.59batch/s, batch_loss=0.0834]\n",
      "Epoch 73 [val]: 100%|██████████| 211/211 [00:13<00:00, 15.97batch/s, batch_loss=0.0282] \n"
     ]
    },
    {
     "name": "stdout",
     "output_type": "stream",
     "text": [
      "Train loss:  0.05391541633583438\n",
      "Validation loss:  0.053753731831679516\n"
     ]
    },
    {
     "name": "stderr",
     "output_type": "stream",
     "text": [
      "Epoch 74 [train]: 100%|██████████| 211/211 [00:15<00:00, 13.53batch/s, batch_loss=0.0278]\n",
      "Epoch 74 [val]: 100%|██████████| 211/211 [00:12<00:00, 16.27batch/s, batch_loss=0.0875]\n"
     ]
    },
    {
     "name": "stdout",
     "output_type": "stream",
     "text": [
      "Train loss:  0.05372327089819886\n",
      "Validation loss:  0.05374820324138176\n"
     ]
    },
    {
     "name": "stderr",
     "output_type": "stream",
     "text": [
      "Epoch 75 [train]: 100%|██████████| 211/211 [00:14<00:00, 14.20batch/s, batch_loss=0.0931]\n",
      "Epoch 75 [val]: 100%|██████████| 211/211 [00:13<00:00, 16.20batch/s, batch_loss=0.0466]\n"
     ]
    },
    {
     "name": "stdout",
     "output_type": "stream",
     "text": [
      "Train loss:  0.05366624943656933\n",
      "Validation loss:  0.05344308789164145\n"
     ]
    },
    {
     "name": "stderr",
     "output_type": "stream",
     "text": [
      "Epoch 76 [train]: 100%|██████████| 211/211 [00:15<00:00, 14.02batch/s, batch_loss=0.0365]\n",
      "Epoch 76 [val]: 100%|██████████| 211/211 [00:12<00:00, 16.59batch/s, batch_loss=0.0417]\n"
     ]
    },
    {
     "name": "stdout",
     "output_type": "stream",
     "text": [
      "Train loss:  0.053733755474846365\n",
      "Validation loss:  0.053047589729006764\n"
     ]
    },
    {
     "name": "stderr",
     "output_type": "stream",
     "text": [
      "Epoch 77 [train]: 100%|██████████| 211/211 [00:15<00:00, 13.89batch/s, batch_loss=0.0322]\n",
      "Epoch 77 [val]: 100%|██████████| 211/211 [00:12<00:00, 16.53batch/s, batch_loss=0.207] \n"
     ]
    },
    {
     "name": "stdout",
     "output_type": "stream",
     "text": [
      "Train loss:  0.053373461006453356\n",
      "Validation loss:  0.0529264549701667\n"
     ]
    },
    {
     "name": "stderr",
     "output_type": "stream",
     "text": [
      "Epoch 78 [train]: 100%|██████████| 211/211 [00:15<00:00, 13.50batch/s, batch_loss=0.0368]\n",
      "Epoch 78 [val]: 100%|██████████| 211/211 [00:13<00:00, 15.96batch/s, batch_loss=0.0731]\n"
     ]
    },
    {
     "name": "stdout",
     "output_type": "stream",
     "text": [
      "Train loss:  0.05341669135983185\n",
      "Validation loss:  0.0530656724376549\n"
     ]
    },
    {
     "name": "stderr",
     "output_type": "stream",
     "text": [
      "Epoch 79 [train]: 100%|██████████| 211/211 [00:14<00:00, 14.64batch/s, batch_loss=0.0588]\n",
      "Epoch 79 [val]: 100%|██████████| 211/211 [00:13<00:00, 16.09batch/s, batch_loss=0.0342] \n"
     ]
    },
    {
     "name": "stdout",
     "output_type": "stream",
     "text": [
      "Train loss:  0.05332883609702905\n",
      "Validation loss:  0.05275953839034933\n"
     ]
    },
    {
     "name": "stderr",
     "output_type": "stream",
     "text": [
      "Epoch 80 [train]: 100%|██████████| 211/211 [00:14<00:00, 14.21batch/s, batch_loss=0.0642]\n",
      "Epoch 80 [val]: 100%|██████████| 211/211 [00:12<00:00, 16.24batch/s, batch_loss=0.0576]\n"
     ]
    },
    {
     "name": "stdout",
     "output_type": "stream",
     "text": [
      "Train loss:  0.0532215151676321\n",
      "Validation loss:  0.05361409609809676\n"
     ]
    },
    {
     "name": "stderr",
     "output_type": "stream",
     "text": [
      "Epoch 81 [train]: 100%|██████████| 211/211 [00:15<00:00, 13.68batch/s, batch_loss=0.0661]\n",
      "Epoch 81 [val]: 100%|██████████| 211/211 [00:12<00:00, 17.14batch/s, batch_loss=0.0374]\n"
     ]
    },
    {
     "name": "stdout",
     "output_type": "stream",
     "text": [
      "Train loss:  0.052963221245560764\n",
      "Validation loss:  0.05265565096909772\n"
     ]
    },
    {
     "name": "stderr",
     "output_type": "stream",
     "text": [
      "Epoch 82 [train]: 100%|██████████| 211/211 [00:15<00:00, 13.94batch/s, batch_loss=0.0618]\n",
      "Epoch 82 [val]: 100%|██████████| 211/211 [00:12<00:00, 16.47batch/s, batch_loss=0.0699]\n"
     ]
    },
    {
     "name": "stdout",
     "output_type": "stream",
     "text": [
      "Train loss:  0.052709452618779934\n",
      "Validation loss:  0.052980028721806294\n"
     ]
    },
    {
     "name": "stderr",
     "output_type": "stream",
     "text": [
      "Epoch 83 [train]: 100%|██████████| 211/211 [00:15<00:00, 13.73batch/s, batch_loss=0.0177]\n",
      "Epoch 83 [val]: 100%|██████████| 211/211 [00:12<00:00, 16.25batch/s, batch_loss=0.131] \n"
     ]
    },
    {
     "name": "stdout",
     "output_type": "stream",
     "text": [
      "Train loss:  0.05280007395581062\n",
      "Validation loss:  0.05228325409689366\n"
     ]
    },
    {
     "name": "stderr",
     "output_type": "stream",
     "text": [
      "Epoch 84 [train]: 100%|██████████| 211/211 [00:15<00:00, 13.25batch/s, batch_loss=0.062] \n",
      "Epoch 84 [val]: 100%|██████████| 211/211 [00:13<00:00, 16.08batch/s, batch_loss=0.0449]\n"
     ]
    },
    {
     "name": "stdout",
     "output_type": "stream",
     "text": [
      "Train loss:  0.052511947429623486\n",
      "Validation loss:  0.05276646799327632\n"
     ]
    },
    {
     "name": "stderr",
     "output_type": "stream",
     "text": [
      "Epoch 85 [train]: 100%|██████████| 211/211 [00:15<00:00, 13.98batch/s, batch_loss=0.0218]\n",
      "Epoch 85 [val]: 100%|██████████| 211/211 [00:12<00:00, 16.90batch/s, batch_loss=0.0426] \n"
     ]
    },
    {
     "name": "stdout",
     "output_type": "stream",
     "text": [
      "Train loss:  0.05262353184161248\n",
      "Validation loss:  0.05221764847126029\n"
     ]
    },
    {
     "name": "stderr",
     "output_type": "stream",
     "text": [
      "Epoch 86 [train]: 100%|██████████| 211/211 [00:15<00:00, 13.72batch/s, batch_loss=0.0332]\n",
      "Epoch 86 [val]: 100%|██████████| 211/211 [00:12<00:00, 16.44batch/s, batch_loss=0.0955]\n"
     ]
    },
    {
     "name": "stdout",
     "output_type": "stream",
     "text": [
      "Train loss:  0.052411945191472596\n",
      "Validation loss:  0.05230013101219849\n"
     ]
    },
    {
     "name": "stderr",
     "output_type": "stream",
     "text": [
      "Epoch 87 [train]: 100%|██████████| 211/211 [00:15<00:00, 13.99batch/s, batch_loss=0.0447]\n",
      "Epoch 87 [val]: 100%|██████████| 211/211 [00:13<00:00, 16.13batch/s, batch_loss=0.0884]\n"
     ]
    },
    {
     "name": "stdout",
     "output_type": "stream",
     "text": [
      "Train loss:  0.052361664666828324\n",
      "Validation loss:  0.05178608520587614\n"
     ]
    },
    {
     "name": "stderr",
     "output_type": "stream",
     "text": [
      "Epoch 88 [train]: 100%|██████████| 211/211 [00:14<00:00, 14.24batch/s, batch_loss=0.0312]\n",
      "Epoch 88 [val]: 100%|██████████| 211/211 [00:12<00:00, 16.37batch/s, batch_loss=0.0388]\n"
     ]
    },
    {
     "name": "stdout",
     "output_type": "stream",
     "text": [
      "Train loss:  0.051703162469330474\n",
      "Validation loss:  0.05179295264879393\n"
     ]
    },
    {
     "name": "stderr",
     "output_type": "stream",
     "text": [
      "Epoch 89 [train]: 100%|██████████| 211/211 [00:14<00:00, 14.07batch/s, batch_loss=0.0748]\n",
      "Epoch 89 [val]: 100%|██████████| 211/211 [00:13<00:00, 16.14batch/s, batch_loss=0.0263]\n"
     ]
    },
    {
     "name": "stdout",
     "output_type": "stream",
     "text": [
      "Train loss:  0.05212991404068935\n",
      "Validation loss:  0.051900026732626885\n"
     ]
    },
    {
     "name": "stderr",
     "output_type": "stream",
     "text": [
      "Epoch 90 [train]: 100%|██████████| 211/211 [00:15<00:00, 13.23batch/s, batch_loss=0.0197]\n",
      "Epoch 90 [val]: 100%|██████████| 211/211 [00:12<00:00, 16.60batch/s, batch_loss=0.0622]\n"
     ]
    },
    {
     "name": "stdout",
     "output_type": "stream",
     "text": [
      "Train loss:  0.05171852234262784\n",
      "Validation loss:  0.05152996123681525\n"
     ]
    },
    {
     "name": "stderr",
     "output_type": "stream",
     "text": [
      "Epoch 91 [train]: 100%|██████████| 211/211 [00:15<00:00, 13.38batch/s, batch_loss=0.0633]\n",
      "Epoch 91 [val]: 100%|██████████| 211/211 [00:13<00:00, 16.16batch/s, batch_loss=0.0459]\n"
     ]
    },
    {
     "name": "stdout",
     "output_type": "stream",
     "text": [
      "Train loss:  0.051907820585310245\n",
      "Validation loss:  0.05136820488337784\n"
     ]
    },
    {
     "name": "stderr",
     "output_type": "stream",
     "text": [
      "Epoch 92 [train]: 100%|██████████| 211/211 [00:15<00:00, 14.00batch/s, batch_loss=0.0281]\n",
      "Epoch 92 [val]: 100%|██████████| 211/211 [00:13<00:00, 16.08batch/s, batch_loss=0.0462]\n"
     ]
    },
    {
     "name": "stdout",
     "output_type": "stream",
     "text": [
      "Train loss:  0.051641482939017845\n",
      "Validation loss:  0.05129722544512191\n"
     ]
    },
    {
     "name": "stderr",
     "output_type": "stream",
     "text": [
      "Epoch 93 [train]: 100%|██████████| 211/211 [00:15<00:00, 13.58batch/s, batch_loss=0.0485]\n",
      "Epoch 93 [val]: 100%|██████████| 211/211 [00:12<00:00, 16.57batch/s, batch_loss=0.0632]\n"
     ]
    },
    {
     "name": "stdout",
     "output_type": "stream",
     "text": [
      "Train loss:  0.051400043382589765\n",
      "Validation loss:  0.05123656557118597\n"
     ]
    },
    {
     "name": "stderr",
     "output_type": "stream",
     "text": [
      "Epoch 94 [train]: 100%|██████████| 211/211 [00:15<00:00, 13.74batch/s, batch_loss=0.0307] \n",
      "Epoch 94 [val]: 100%|██████████| 211/211 [00:12<00:00, 16.44batch/s, batch_loss=0.0348]\n"
     ]
    },
    {
     "name": "stdout",
     "output_type": "stream",
     "text": [
      "Train loss:  0.05101706975589395\n",
      "Validation loss:  0.05095037766056049\n"
     ]
    },
    {
     "name": "stderr",
     "output_type": "stream",
     "text": [
      "Epoch 95 [train]: 100%|██████████| 211/211 [00:15<00:00, 13.47batch/s, batch_loss=0.0394]\n",
      "Epoch 95 [val]: 100%|██████████| 211/211 [00:12<00:00, 16.47batch/s, batch_loss=0.0551]\n"
     ]
    },
    {
     "name": "stdout",
     "output_type": "stream",
     "text": [
      "Train loss:  0.05136166564865124\n",
      "Validation loss:  0.051522677014400435\n"
     ]
    },
    {
     "name": "stderr",
     "output_type": "stream",
     "text": [
      "Epoch 96 [train]: 100%|██████████| 211/211 [00:15<00:00, 13.71batch/s, batch_loss=0.0209]\n",
      "Epoch 96 [val]: 100%|██████████| 211/211 [00:13<00:00, 15.48batch/s, batch_loss=0.0925]\n"
     ]
    },
    {
     "name": "stdout",
     "output_type": "stream",
     "text": [
      "Train loss:  0.051272974460613345\n",
      "Validation loss:  0.050902601379852794\n"
     ]
    },
    {
     "name": "stderr",
     "output_type": "stream",
     "text": [
      "Epoch 97 [train]: 100%|██████████| 211/211 [00:15<00:00, 13.57batch/s, batch_loss=0.0549]\n",
      "Epoch 97 [val]: 100%|██████████| 211/211 [00:12<00:00, 17.58batch/s, batch_loss=0.0232]\n"
     ]
    },
    {
     "name": "stdout",
     "output_type": "stream",
     "text": [
      "Train loss:  0.05120176225108971\n",
      "Validation loss:  0.050467716211094624\n"
     ]
    },
    {
     "name": "stderr",
     "output_type": "stream",
     "text": [
      "Epoch 98 [train]: 100%|██████████| 211/211 [00:15<00:00, 14.02batch/s, batch_loss=0.0242]\n",
      "Epoch 98 [val]: 100%|██████████| 211/211 [00:12<00:00, 17.01batch/s, batch_loss=0.0401]\n"
     ]
    },
    {
     "name": "stdout",
     "output_type": "stream",
     "text": [
      "Train loss:  0.05103539755081905\n",
      "Validation loss:  0.05058593798644286\n"
     ]
    },
    {
     "name": "stderr",
     "output_type": "stream",
     "text": [
      "Epoch 99 [train]: 100%|██████████| 211/211 [00:15<00:00, 13.85batch/s, batch_loss=0.025]  \n",
      "Epoch 99 [val]: 100%|██████████| 211/211 [00:13<00:00, 15.97batch/s, batch_loss=0.198] "
     ]
    },
    {
     "name": "stdout",
     "output_type": "stream",
     "text": [
      "Train loss:  0.050954042277447306\n",
      "Validation loss:  0.05049822862131396\n"
     ]
    },
    {
     "name": "stderr",
     "output_type": "stream",
     "text": [
      "\n"
     ]
    }
   ],
   "source": [
    "# Number of epochs we wait for the loss to decrease before stopping\n",
    "# the training process early\n",
    "patience = 10\n",
    "\n",
    "best_val_loss = float('inf')\n",
    "best_epoch = 0\n",
    "loss_values = torch.zeros(2, num_epochs)\n",
    "\n",
    "# Train model\n",
    "for epoch in range(num_epochs):\n",
    "    model.train()\n",
    "    train_loss = 0.0\n",
    "\n",
    "    # Add a progress bar\n",
    "    train_loader_pbar = tqdm(train_loader, unit=\"batch\")\n",
    "\n",
    "    # Loop over the training batches\n",
    "    for batch_idx, (batch_x, batch_y) in enumerate(train_loader_pbar):\n",
    "\n",
    "        # Print the epoch and training mode\n",
    "        train_loader_pbar.set_description(f\"Epoch {epoch} [train]\")\n",
    "\n",
    "        # Move images and traversal scores to GPU (if available)\n",
    "        batch_x = batch_x.to(device)\n",
    "        batch_y = batch_y.type(torch.FloatTensor).to(device)\n",
    "\n",
    "        # Zero out gradients before each backpropagation pass, to avoid that\n",
    "        # they accumulate\n",
    "        optimizer.zero_grad()\n",
    "\n",
    "        # Perform forward pass        \n",
    "        output = model(batch_x.view(batch_size, seq_len, input_size))\n",
    "\n",
    "        # Compute loss \n",
    "        # nn.MSELoss() (and other PyTorch loss functions) is the average loss over the batch.\n",
    "        loss = nn.MSELoss()(output.squeeze(), batch_y.float())\n",
    "\n",
    "        # Perform backpropagation (update weights)\n",
    "        loss.backward()\n",
    "\n",
    "        # Adjust parameters based on gradients\n",
    "        optimizer.step()\n",
    "        # Accumulate batch loss to average over the epoch        \n",
    "        train_loss += loss.item() * batch_x.size(0)\n",
    "\n",
    "        # Print the batch loss next to the progress bar\n",
    "        train_loader_pbar.set_postfix(batch_loss=loss.item())\n",
    "        \n",
    "    # Validation\n",
    "    val_loss = 0.\n",
    "\n",
    "    # Configure the model for testing\n",
    "    # (turn off dropout layers, batchnorm layers, etc)\n",
    "    model.eval()\n",
    "\n",
    "    # Add a progress bar\n",
    "    val_loader_pbar = tqdm(val_loader, unit=\"batch\")\n",
    "\n",
    "    # Turn off gradients computation (the backward computational graph is built during\n",
    "    # the forward pass and weights are updated during the backward pass, here we avoid\n",
    "    # building the graph)\n",
    "    with torch.no_grad():\n",
    "        # Loop over the validation batches\n",
    "        for batch_idx, (batch_x, batch_y) in enumerate(val_loader_pbar):\n",
    "            # Print the epoch and validation mode\n",
    "            val_loader_pbar.set_description(f\"Epoch {epoch} [val]\")\n",
    "\n",
    "            # Move images and traversal scores to GPU (if available)\n",
    "            batch_x = batch_x.to(device)\n",
    "            batch_y = batch_y.type(torch.FloatTensor).to(device)\n",
    "            # Perform forward pass        \n",
    "            output = model(batch_x.view(batch_size, seq_len, input_size))\n",
    "\n",
    "            # Compute loss \n",
    "            loss = nn.MSELoss()(output.squeeze(), batch_y.float())\n",
    "            # Accumulate batch loss to average over the epoch        \n",
    "            val_loss += loss.item() * batch_x.size(0)\n",
    "            # Print the batch loss next to the progress bar\n",
    "            val_loader_pbar.set_postfix(batch_loss=loss.item())\n",
    "\n",
    "    train_loss /= len(train_loader.dataset)\n",
    "    val_loss /= len(val_loader.dataset)\n",
    "    print(\"Train loss: \", train_loss)\n",
    "    print(\"Validation loss: \", val_loss)\n",
    "    # Store the computed losses\n",
    "    loss_values[0, epoch] = train_loss\n",
    "    loss_values[1, epoch] = val_loss\n",
    "\n",
    "    # Add the losses to TensorBoard\n",
    "    tensorboard.add_scalar(\"train_loss\", train_loss, epoch)\n",
    "    tensorboard.add_scalar(\"val_loss\", val_loss, epoch)\n",
    "\n",
    "    # Early stopping based on validation loss: stop the training if the\n",
    "    # loss has not improved for the last 5 epochs\n",
    "    if val_loss < best_val_loss:\n",
    "        best_val_loss = val_loss\n",
    "        best_epoch = epoch\n",
    "    \n",
    "    elif epoch - best_epoch >= patience:\n",
    "        print(f'Early stopping at epoch {epoch}')\n",
    "        break\n",
    "\n",
    "# Close TensorBoard\n",
    "tensorboard.close()"
   ]
  },
  {
   "attachments": {},
   "cell_type": "markdown",
   "metadata": {},
   "source": [
    "##### Vidualization"
   ]
  },
  {
   "cell_type": "code",
   "execution_count": 12,
   "metadata": {},
   "outputs": [
    {
     "data": {
      "image/png": "[encoded data removed]",
      "text/plain": [
       "<Figure size 640x480 with 1 Axes>"
      ]
     },
     "metadata": {},
     "output_type": "display_data"
    }
   ],
   "source": [
    "import matplotlib\n",
    "matplotlib.rcParams['text.usetex'] = False\n",
    "import matplotlib.pyplot as plt\n",
    "\n",
    "# Loss\n",
    "indices = loss_values[0] != 0\n",
    "train_losses = loss_values[0][indices]\n",
    "val_losses = loss_values[1][indices]\n",
    "\n",
    "plt.plot(train_losses, label=\"train loss\")\n",
    "plt.plot(val_losses, label=\"validation loss\")\n",
    "\n",
    "plt.legend()\n",
    "plt.xlabel(\"Epoch\")\n",
    "plt.ylabel(\"Loss\")\n",
    "plt.title(\"Training and Validation Losses (MSE)\")\n",
    "plt.show()"
   ]
  },
  {
   "attachments": {},
   "cell_type": "markdown",
   "metadata": {},
   "source": [
    "##### Testing"
   ]
  },
  {
   "cell_type": "code",
   "execution_count": 13,
   "metadata": {},
   "outputs": [
    {
     "name": "stdout",
     "output_type": "stream",
     "text": [
      "Test loss:  0.06317524024971614\n"
     ]
    }
   ],
   "source": [
    "model.eval()\n",
    "test_loss = 0.0\n",
    "with torch.no_grad():\n",
    "    # batch_y is the traversal_costs of a batch (32 sequences)\n",
    "    for batch_x, batch_y in test_loader:\n",
    "        # Move images and traversal scores to GPU (if available)\n",
    "        batch_x = batch_x.to(device)\n",
    "        batch_y = batch_y.type(torch.FloatTensor).to(device)\n",
    "        #predicted_traversal_costs\n",
    "        predicted_traversal_costs = model(batch_x.view(batch_size, seq_len, input_size))\n",
    "        loss = nn.MSELoss()(predicted_traversal_costs.squeeze(), batch_y.float())\n",
    "        test_loss += loss.item() * batch_x.size(0)\n",
    "    \n",
    "    # Compute the loss and accuracy\n",
    "    test_loss /= len(test_loader.dataset)\n",
    "\n",
    "print(\"Test loss: \", test_loss)    "
   ]
  },
  {
   "cell_type": "code",
   "execution_count": 14,
   "metadata": {},
   "outputs": [
    {
     "name": "stdout",
     "output_type": "stream",
     "text": [
      "Output:\n",
      " tensor([[1.5104],\n",
      "        [1.4886],\n",
      "        [1.5345],\n",
      "        [1.5640],\n",
      "        [1.5703],\n",
      "        [1.5451],\n",
      "        [1.5297],\n",
      "        [1.5106],\n",
      "        [1.5087],\n",
      "        [1.5219],\n",
      "        [1.5209],\n",
      "        [1.4473],\n",
      "        [1.5330],\n",
      "        [1.4816],\n",
      "        [1.5486],\n",
      "        [1.4975]], device='cuda:0', grad_fn=<AddmmBackward0>)\n",
      "Ground truth:\n",
      " tensor([1.0929, 1.1668, 0.9735, 0.9399, 1.4558, 1.2730, 1.2456, 1.0721, 1.1277,\n",
      "        1.1630, 0.9662, 1.2295, 1.0661, 1.2375, 0.8714, 1.3905],\n",
      "       device='cuda:0')\n"
     ]
    }
   ],
   "source": [
    "\n",
    "batch_idx, (batch_x, batch_y) in next(enumerate(iter(test_loader)))\n",
    "batch_x = batch_x.to(device)\n",
    "batch_y = batch_y.type(torch.FloatTensor).to(device)\n",
    "\n",
    "     \n",
    "output = model(batch_x.view(batch_size, seq_len, input_size))\n",
    "\n",
    "print(\"Output:\\n\", output)\n",
    "print(\"Ground truth:\\n\", batch_y)\n",
    "\n",
    "# print(predicted_traversal_scores-traversal_scores)\n",
    "\n",
    "# predicted_traversal_scores = predicted_traversal_scores.to(\"cpu\").detach().numpy()\n",
    "# plt.hist(predicted_traversal_scores)"
   ]
  },
  {
   "cell_type": "code",
   "execution_count": 15,
   "metadata": {},
   "outputs": [
    {
     "data": {
      "image/png": "[encoded data removed]",
      "text/plain": [
       "<Figure size 640x480 with 1 Axes>"
      ]
     },
     "metadata": {},
     "output_type": "display_data"
    }
   ],
   "source": [
    "traversal_costs_train = []\n",
    "\n",
    "for _, score in train_dataset:\n",
    "    traversal_costs_train.append(score)\n",
    "    \n",
    "plt.hist(traversal_costs_train, bins=10)\n",
    "plt.xlabel(\"Traversal Cost\")\n",
    "plt.ylabel(\"Count\")\n",
    "plt.title(\"Histogram of Traversal Costs (Training Set)\")\n",
    "plt.show()\n"
   ]
  },
  {
   "cell_type": "code",
   "execution_count": 17,
   "metadata": {},
   "outputs": [],
   "source": [
    "# Save the model parameters\n",
    "torch.save(model.state_dict(), \"100_sequence_gru.params\")"
   ]
  }
 ],
 "metadata": {
  "kernelspec": {
   "display_name": "base",
   "language": "python",
   "name": "python3"
  },
  "language_info": {
   "codemirror_mode": {
    "name": "ipython",
    "version": 3
   },
   "file_extension": ".py",
   "mimetype": "text/x-python",
   "name": "python",
   "nbconvert_exporter": "python",
   "pygments_lexer": "ipython3",
   "version": "3.9.13"
  },
  "orig_nbformat": 4
 },
 "nbformat": 4,
 "nbformat_minor": 2
}
